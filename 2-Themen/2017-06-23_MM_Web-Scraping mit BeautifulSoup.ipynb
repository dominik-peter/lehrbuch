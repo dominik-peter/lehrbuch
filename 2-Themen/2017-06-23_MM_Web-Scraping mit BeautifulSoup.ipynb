{
 "cells": [
  {
   "cell_type": "markdown",
   "metadata": {},
   "source": [
    "# Web-Scraping mit BeautifulSoup"
   ]
  },
  {
   "cell_type": "markdown",
   "metadata": {},
   "source": [
    "## Einführung Scraping\n",
    "\n",
    "„Scraping“ bedeutet im Englischen soviel wie „schaben“ oder „kratzen”. Unter dem Oberbegriff sind Techniken zusammengefasst, mit denen Daten aus Webseiten oder Dokumenten extrahiert – oder, um bei der wörtlichen Übersetzung zu bleiben, „herausgeschabt“ – werden, um sie weiterzuverarbeiten.\n",
    "\n",
    "Der kanadische Datenjournalist Glen McGregor bezeichnet Scraping als mächtiges Werkzeug, um an elektronische Daten für Geschichten heranzukommen, die sonst nicht realisierbar wären (siehe [Artikel](http://j-source.ca/article/web-scraping-how-journalists-get-their-own-data)).\n",
    "\n",
    "Scrapen kann auf verschiedenste Art und Weise geschehen: Die mächtigste Möglichkeit besteht darin, selbst ein Programm zu erstellen, das in der Lage ist, Webseiten systematisch nach den gewünschten Informationen zu durchsuchen.\n",
    "\n",
    "Und hier kommt das ** Web-Scraping mit Python und BeautifulSoup** ins Spiel.\n",
    "\n",
    "Web Scraping ist die automatische Extraktion von Daten in einem Format, das man leicht für Analysen und weitere Bearbeitungen nutzen kann. Im Prinzip erleichtert es das Abholen von dynamischen Daten einer Seite.\n",
    "\n",
    "## Anwendungsbeispiele\n",
    "\n",
    "- Finanzmarkt (Preis-/Wertvergleiche über Zeit)\n",
    "- E-Mail Adressen \n",
    "- Produktbewertungen (Vergleich zur Konkurenz)\n",
    "- massive Datenmengen für Forschungen\n",
    "- ...\n",
    "\n",
    "### Hinweis:\n",
    "\n",
    "**Ich möchte an dieser Stelle darauf hinweisen, dass Scraping Techniken auch missbraucht werden können, indem Inhalte fremder Webseiten gegen den Willen des Anbieters kopiert und auf einem eigenen Server angeboten werden.**"
   ]
  },
  {
   "cell_type": "markdown",
   "metadata": {},
   "source": [
    "\n",
    "\n",
    "# Erste Schritte\n",
    "\n",
    "\n",
    "Wir werden **Python** als unsere \"kratzende\" Sprache verwenden, zusammen mit einer einfachen und leistungsstarken Bibliothek, **BeautifulSoup**.\n",
    "(Das Vorhandensein von Python setze ich hier vorraus)\n",
    "\n",
    "### Installation von BeautifulSoup in Jupyter\n",
    "\n",
    "Das aktuelle Package heisst *BeautifulSoup**4*** und wird (z.B. im Anaconda Prompt) wie folgt installiert:\n",
    "\n",
    "\n",
    "> $ pip install beautifulsoup4   \n",
    "\n",
    "Sollte die aktuelle Versionsnummer vergessen werden, wird BeautifulSoup in der Vorgängerversion 3 installiert.\n",
    "\n",
    "Bei Problemen oder für weitere Hinweise siehe [Link zur Website](https://www.crummy.com/software/BeautifulSoup/bs4/doc/) der Entwickler.\n"
   ]
  },
  {
   "cell_type": "markdown",
   "metadata": {},
   "source": [
    "## Wiederholung\n",
    "\n",
    "Bevor wir anfangen uns mit dem Code zu beschäftigen, hier eine kurze Wiederholung der Grundlagen in HTML und einige Regeln des Scrapings.\n",
    "\n",
    "### HTML-Tags\n",
    "\n",
    "Wenn Sie bereits die Grundlagen von HTML-Tags kennen, fühlen Sie sich frei, diesen Teil zu überspringen."
   ]
  },
  {
   "cell_type": "markdown",
   "metadata": {},
   "source": [
    "```\n",
    "<!DOCTYPE html>  \n",
    "<html>  \n",
    "    <head>\n",
    "    </head>\n",
    "    <body>\n",
    "        <h1> First Scraping </h1>\n",
    "        <p> Hello World </p>\n",
    "    <body>\n",
    "</html>\n",
    "```"
   ]
  },
  {
   "cell_type": "markdown",
   "metadata": {},
   "source": [
    "### Grundlegende Syntax einer HTML-Webseite \n",
    "Jeder `<tag>` dient einem Block innerhalb der Webseite:\n",
    "1. `<! DOCTYPE html>` : HTML-Dokumente müssen mit einer Typdeklaration beginnen.\n",
    "2. Das HTML-Dokument ist zwischen `<html>` und `</ html>` enthalten.\n",
    "3. Die Meta- und Script-Deklaration des HTML-Dokuments liegt zwischen `<head>` und `</ head>`.\n",
    "4. Der sichtbare Teil des HTML-Dokuments liegt zwischen `<body>` und  `</ body>`.\n",
    "5. Titelüberschriften werden mit den Tags `<h1>` bis `<h6>` definiert.\n",
    "6. Die Absätze werden mit dem `<p>`-Tag definiert.\n",
    "\n",
    "Es gibt noch andere nützliche Tags wie `<a>` für Hyperlinks, `<table>` für Tabellen, mit `<tr>` für Zeilen und `<td>` für Spalten.\n",
    "\n",
    "Auch HTML-Tags kommen manchmal mit *id* und *class* als Attribute. Das `id`-Attribut gibt eine eindeutige ID für ein HTML-Tag an und der Wert muss innerhalb des HTML-Dokuments eindeutig sein. Das Klassenattribut wird verwendet, um gleiche Stile für HTML-Tags mit derselben Klasse zu definieren. Wir können diese `id`s und `class`es nutzen, die Daten zu finden, die wir extrahieren wollen.\n",
    "\n",
    "Weitere Informationen zu HTML-Tags, ID und Klasse finden Sie unter [W3Schools](https://www.w3schools.com/)."
   ]
  },
  {
   "cell_type": "markdown",
   "metadata": {
    "collapsed": true
   },
   "source": [
    "### Scraping Regeln\n",
    "\n",
    "1. Sie sollten die Nutzungsbedingungen einer Webseite gründlich lesen, bevor Sie dort \"scrapen\", gerade in Bezug zu der rechtlichen Nutzung von Daten (keine kommerzielle Nutzung).\n",
    "2. Ihr Programm nicht zu aggressiv nutzen (auch bekannt als Spamming), kann unter Umständen auch zum Server-/Systemabsturz führen. Vergewissern Sie sich, dass sich Ihr Programm in einer vernünftigen Weise verhält (d.h. wirkt wie ein Mensch - Bsp: eine Anfrage für eine Webseite pro Sekunde).\n",
    "3. Das Layout einer Webseite kann sich von Zeit zu Zeit ändern. Es bietet sich an, die Webseite vorher erneut zu besuchen und ggf. Ihren Code nach Bedarf neuzuschreiben bzw. abzuändern.\n",
    "\n",
    "Weitere Beispiele und ein kurzer Überblick kann [hier](https://www.seo-book.de/onpage/richtig-scrapen-legal-legitim-und-seo-konform) gefunden werden."
   ]
  },
  {
   "cell_type": "markdown",
   "metadata": {
    "collapsed": true
   },
   "source": [
    "# Anwendung: einfaches Web-Scraping\n",
    "## Inspektion der Website\n",
    "\n",
    "Schauen wir uns zunächst diese [Seite](https://www.bloomberg.com/quote/EURUSD:CUR) mit dem aktuellen Wechselkurs  Euro € zu US-Dollar $."
   ]
  },
  {
   "cell_type": "markdown",
   "metadata": {},
   "source": [
    "![title](img/Tut1.png)"
   ]
  },
  {
   "cell_type": "markdown",
   "metadata": {},
   "source": [
    "Mit Rechtsklick auf den Wechselkurs, können wir diesen näher untersuchen (hier am Beispiel unter Nutzung von Google Chrome):"
   ]
  },
  {
   "cell_type": "markdown",
   "metadata": {
    "collapsed": true
   },
   "source": [
    "![title](img/Tut2.png)"
   ]
  },
  {
   "cell_type": "markdown",
   "metadata": {},
   "source": [
    "Hier finden wir die einzelnen HTML-Level mit den Klassen, in der auch unser Wert steht.\n",
    "```\n",
    "<div class=\"basic-quote\"> → <div class=\"price-container up\"> → <div class=\"price\">`\n",
    "```\n",
    "Auf dem selben Weg finden wir auch den dazugehörigen Namen:\n",
    "```\n",
    "<h1 class=\"name\"> EURUSD Spot Exchange Rate </h1>\n",
    "```\n"
   ]
  },
  {
   "cell_type": "markdown",
   "metadata": {},
   "source": [
    "![title](img/Tut3.png)"
   ]
  },
  {
   "cell_type": "markdown",
   "metadata": {},
   "source": [
    "Jetzt kennen wir den Standort der gewünschten Daten (obwohl in diesem Fall Bloomberg keine `id` verwendet) mit Hilfe der `class`-Attribute."
   ]
  },
  {
   "cell_type": "markdown",
   "metadata": {},
   "source": [
    "> **Hinweis**:\n",
    "> auf der Website von [SelectorGadget](http://selectorgadget.com/) finden Sie ein recht nützliches Tool, es erleichtert die Suche nach den gewünschten Daten (`<tags>` Informationen)."
   ]
  },
  {
   "cell_type": "markdown",
   "metadata": {},
   "source": [
    "## Der erste Code\n",
    "\n",
    "Da wir jetzt alle nötigen Informationen kennen, können wir uns dem Coding des Web-Scrapers widmen.\n",
    "\n",
    "Zunächst benötigen wir folgenden Bibliotheken:"
   ]
  },
  {
   "cell_type": "code",
   "execution_count": 1,
   "metadata": {
    "collapsed": true
   },
   "outputs": [],
   "source": [
    "import requests\n",
    "from bs4 import BeautifulSoup"
   ]
  },
  {
   "cell_type": "markdown",
   "metadata": {},
   "source": [
    "Als nächstes deklarieren wir eine Variable für die gewünschte URL der Website:"
   ]
  },
  {
   "cell_type": "code",
   "execution_count": 2,
   "metadata": {
    "collapsed": true
   },
   "outputs": [],
   "source": [
    "URL = 'https://www.bloomberg.com/quote/EURUSD:CUR'"
   ]
  },
  {
   "cell_type": "markdown",
   "metadata": {},
   "source": [
    "Und nutzen `Python requests`, um die HTML-Seite der URL zu erhalten und prüfen anschließend den Status.\n",
    "\n",
    "> **Hinweis**: \n",
    "\n",
    "> falls nicht installiert: ```$ pip install requests``` (z.B. im Anaconda Prompt)"
   ]
  },
  {
   "cell_type": "code",
   "execution_count": 3,
   "metadata": {
    "collapsed": true
   },
   "outputs": [],
   "source": [
    "page = requests.get(URL)"
   ]
  },
  {
   "cell_type": "code",
   "execution_count": 4,
   "metadata": {},
   "outputs": [
    {
     "data": {
      "text/plain": [
       "200"
      ]
     },
     "execution_count": 4,
     "metadata": {},
     "output_type": "execute_result"
    }
   ],
   "source": [
    "page.status_code"
   ]
  },
  {
   "cell_type": "markdown",
   "metadata": {},
   "source": [
    "Der `status_code 200` bedeutet, dass die Seite erfolgreich heruntergeladen wurde, desweiteren hat `requests` auch ein eingebautes Objekt zum Überprüfen des Statuscodes:\n"
   ]
  },
  {
   "cell_type": "markdown",
   "metadata": {},
   "source": [
    "> **Hinweis**:\n",
    "\n",
    "> Startet der Code mit `2` → Erfolgsversprechend\n",
    "\n",
    "> Fängt er hingegen mit einer `4` oder `5` an → Fehler"
   ]
  },
  {
   "cell_type": "code",
   "execution_count": 5,
   "metadata": {},
   "outputs": [
    {
     "data": {
      "text/plain": [
       "True"
      ]
     },
     "execution_count": 5,
     "metadata": {},
     "output_type": "execute_result"
    }
   ],
   "source": [
    "page.status_code == requests.codes.ok"
   ]
  },
  {
   "cell_type": "markdown",
   "metadata": {},
   "source": [
    "> Zum Vergleich liefert\n",
    "> \n",
    "```\n",
    "bad_r = requests.get('http://httpbin.org/status/404')\n",
    "bad_r.status_code == requests.codes.ok\n",
    "```\n",
    "als Ergebnis `404` und damit ein `False`"
   ]
  },
  {
   "cell_type": "markdown",
   "metadata": {},
   "source": [
    "Weiter in unserem Code können wir mit Hilfe von BeautifulSoup die vom Server erhaltenen Daten in der entsprechenden Sprache [parsen](https://de.wikipedia.org/wiki/Parser) und in einer Variable speichern:"
   ]
  },
  {
   "cell_type": "code",
   "execution_count": 6,
   "metadata": {
    "collapsed": true
   },
   "outputs": [],
   "source": [
    "soup = BeautifulSoup(page.text, 'html.parser')"
   ]
  },
  {
   "cell_type": "markdown",
   "metadata": {},
   "source": [
    "> **Hinweis**: \n",
    "\n",
    "> An dieser Stelle können auch andere Parser genutzt werden (Beispiele: 'xml','lxml', 'html5lib'), näheres dazu im  Abschnitt \"Tipps: Fortgeschrittene Scraping Techniken\"."
   ]
  },
  {
   "cell_type": "markdown",
   "metadata": {},
   "source": [
    "Mittels BeautifulSoup Anweisung `find()` können wir auf die eingangs gesuchten Informationen zugreifen:"
   ]
  },
  {
   "cell_type": "code",
   "execution_count": 7,
   "metadata": {},
   "outputs": [
    {
     "name": "stdout",
     "output_type": "stream",
     "text": [
      "<h1 class=\"name\"> EURUSD Spot Exchange Rate </h1>\n"
     ]
    }
   ],
   "source": [
    "name_box = soup.find('h1', attrs={'class': 'name'})\n",
    "print(name_box)"
   ]
  },
  {
   "cell_type": "markdown",
   "metadata": {},
   "source": [
    "Und holen uns nur den Text:\n",
    "\n",
    "> mit `strip()` wird nur der Text innnerhalb der `tags` übergeben (Leerzeichen zwischen den `tags` und dem Inhalt werden entfernt)."
   ]
  },
  {
   "cell_type": "code",
   "execution_count": 8,
   "metadata": {},
   "outputs": [
    {
     "name": "stdout",
     "output_type": "stream",
     "text": [
      "EURUSD Spot Exchange Rate\n"
     ]
    }
   ],
   "source": [
    "name = name_box.text.strip()\n",
    "print(name)"
   ]
  },
  {
   "cell_type": "markdown",
   "metadata": {},
   "source": [
    "Auf dem selben Weg finden wir den Wert des Wechselkurses:"
   ]
  },
  {
   "cell_type": "code",
   "execution_count": 9,
   "metadata": {},
   "outputs": [
    {
     "name": "stdout",
     "output_type": "stream",
     "text": [
      "1.1131\n"
     ]
    }
   ],
   "source": [
    "price_box = soup.find('div', attrs={'class':'price'})  \n",
    "price = price_box.text\n",
    "print(price)"
   ]
  },
  {
   "cell_type": "markdown",
   "metadata": {},
   "source": [
    "Für eine weitere Bearbeitung empfiehlt es sich, die gesammelten Werte (z.B. über einen längeren Zeitraum) zu exportieren und auch zu speichern:"
   ]
  },
  {
   "cell_type": "code",
   "execution_count": 10,
   "metadata": {
    "collapsed": true
   },
   "outputs": [],
   "source": [
    "import csv  \n",
    "from datetime import datetime "
   ]
  },
  {
   "cell_type": "code",
   "execution_count": 11,
   "metadata": {
    "collapsed": true
   },
   "outputs": [],
   "source": [
    "with open('EURUSD.csv', 'a') as csv_file:  \n",
    "    writer = csv.writer(csv_file)\n",
    "    writer.writerow([name, price, datetime.now()])"
   ]
  },
  {
   "cell_type": "markdown",
   "metadata": {},
   "source": [
    "Falls dieser Code regelmässig genutzt wird, erhalten Sie den Wert ohne groß auf der Webseite stöbern zu müssen bzw. auch ganz ohne ablenkende Werbeeinblendungen."
   ]
  },
  {
   "cell_type": "markdown",
   "metadata": {},
   "source": [
    "## Mögliche Probleme beim Encoding\n",
    "siehe auch Dokumentation zu [BS4](https://www.crummy.com/software/BeautifulSoup/bs4/doc).\n",
    "\n",
    "Das erzeugte `BeautifulSoup`-Objekt selbst repräsentiert das Dokument als Ganzes, für die meisten Zwecke kann man es als `<tag>`-Objekt behandeln, also in der Baumstruktur navigieren und suchen. Da unter Umständen das `BeautifulSoup`-Objekt nicht einem aktuellen HTML- oder XML-Standard-`<tag>`entspricht (z.B. keine Attribute), ist es sicher sinnvoll sich ersteinmal den Namen anzuschauen."
   ]
  },
  {
   "cell_type": "code",
   "execution_count": 12,
   "metadata": {},
   "outputs": [
    {
     "data": {
      "text/plain": [
       "'[document]'"
      ]
     },
     "execution_count": 12,
     "metadata": {},
     "output_type": "execute_result"
    }
   ],
   "source": [
    "markup = b\"<h1>\\xed\\xe5\\xec\\xf9</h1>\"\n",
    "soup = BeautifulSoup(markup, 'html.parser')\n",
    "\n",
    "soup.name"
   ]
  },
  {
   "cell_type": "code",
   "execution_count": 13,
   "metadata": {},
   "outputs": [
    {
     "data": {
      "text/plain": [
       "<h1>νεμω</h1>"
      ]
     },
     "execution_count": 13,
     "metadata": {},
     "output_type": "execute_result"
    }
   ],
   "source": [
    "soup.h1"
   ]
  },
  {
   "cell_type": "markdown",
   "metadata": {},
   "source": [
    "`BeautifulSoup` konvertiert automatisch in den Unicode, dies funktioniert auch meistens, in den anderen Fällen kann es aber zu Problemen führen. Obiges Beispiel als solches ist zu kurz, als das `BeautifulSoup` es korrekt identifiziert. Es wird fälschlicherweise als `ISO-8859-7` erkannt."
   ]
  },
  {
   "cell_type": "code",
   "execution_count": 14,
   "metadata": {},
   "outputs": [
    {
     "data": {
      "text/plain": [
       "'iso-8859-7'"
      ]
     },
     "execution_count": 14,
     "metadata": {},
     "output_type": "execute_result"
    }
   ],
   "source": [
    "soup.original_encoding"
   ]
  },
  {
   "cell_type": "code",
   "execution_count": 15,
   "metadata": {},
   "outputs": [
    {
     "data": {
      "text/plain": [
       "<h1>νεμω</h1>"
      ]
     },
     "execution_count": 15,
     "metadata": {},
     "output_type": "execute_result"
    }
   ],
   "source": [
    "soup.h1"
   ]
  },
  {
   "cell_type": "markdown",
   "metadata": {},
   "source": [
    "Mit folgender Anweisung können wir in die korrekte Form parsen:"
   ]
  },
  {
   "cell_type": "code",
   "execution_count": 16,
   "metadata": {},
   "outputs": [
    {
     "data": {
      "text/plain": [
       "<h1>םולש</h1>"
      ]
     },
     "execution_count": 16,
     "metadata": {},
     "output_type": "execute_result"
    }
   ],
   "source": [
    "soup = BeautifulSoup(markup, 'html.parser', from_encoding=\"iso-8859-8\")\n",
    "soup.h1"
   ]
  },
  {
   "cell_type": "code",
   "execution_count": 17,
   "metadata": {},
   "outputs": [
    {
     "data": {
      "text/plain": [
       "'iso-8859-8'"
      ]
     },
     "execution_count": 17,
     "metadata": {},
     "output_type": "execute_result"
    }
   ],
   "source": [
    "soup.original_encoding"
   ]
  },
  {
   "cell_type": "markdown",
   "metadata": {},
   "source": [
    "Sollte das Encoding nicht bekannt sein, Sie aber dennoch wissen, dass es sich um Unicode handelt, können Sie mit foglender Anweisung die falschen ausschliessen:"
   ]
  },
  {
   "cell_type": "code",
   "execution_count": 18,
   "metadata": {},
   "outputs": [
    {
     "data": {
      "text/plain": [
       "<h1>íåìù</h1>"
      ]
     },
     "execution_count": 18,
     "metadata": {},
     "output_type": "execute_result"
    }
   ],
   "source": [
    "soup = BeautifulSoup(markup, 'html.parser', exclude_encodings=[\"ISO-8859-7\"])\n",
    "soup.h1"
   ]
  },
  {
   "cell_type": "code",
   "execution_count": 19,
   "metadata": {},
   "outputs": [
    {
     "data": {
      "text/plain": [
       "'windows-1252'"
      ]
     },
     "execution_count": 19,
     "metadata": {},
     "output_type": "execute_result"
    }
   ],
   "source": [
    "soup.original_encoding"
   ]
  },
  {
   "cell_type": "markdown",
   "metadata": {},
   "source": [
    "Windows-1252 ist nicht zu 100% korrekt, aber da es sich um einen kompatiblen [*Superset*](https://en.wikipedia.org/wiki/Subset) von ISO-8859-8 handelt ist es nah dran."
   ]
  },
  {
   "cell_type": "markdown",
   "metadata": {},
   "source": [
    "### Nützliches zum Navigieren mit HTML-`<tag>`:"
   ]
  },
  {
   "cell_type": "markdown",
   "metadata": {},
   "source": [
    "\n",
    "```\n",
    "# ohne Beispiel\n",
    "soup.head\t\t\n",
    "soup.title\n",
    "soup.body\n",
    "soup.a\n",
    "soup.find_all('a') #show all links\n",
    "soup.find(\"a\", id=\"id-value\") # find that unique link\n",
    "\n",
    "```"
   ]
  },
  {
   "cell_type": "markdown",
   "metadata": {},
   "source": [
    "# weitere Anwendung: _multiple_ Werte\n"
   ]
  },
  {
   "cell_type": "markdown",
   "metadata": {},
   "source": [
    "Sollte ein einzelner abgerufener Wert nicht ausreichen, so können Sie auch mehrere zur gleichen Zeit abrufen.\n",
    "\n",
    "Dazu ändern wir zunächst unsere `URL` Variable in ein Array ab."
   ]
  },
  {
   "cell_type": "code",
   "execution_count": 20,
   "metadata": {
    "collapsed": true
   },
   "outputs": [],
   "source": [
    "URL = ['https://www.bloomberg.com/quote/EURUSD:CUR', \n",
    "       'https://www.bloomberg.com/quote/EURGBP:CUR', \n",
    "       'https://www.bloomberg.com/quote/EURCHF:CUR']"
   ]
  },
  {
   "cell_type": "markdown",
   "metadata": {},
   "source": [
    "Dann nur noch den Extraktions-Code in eine Schleife verwandeln, die jede einzelne URL nacheinander abarbeitet und die abgerufenen Werte als Tupel speichert."
   ]
  },
  {
   "cell_type": "code",
   "execution_count": 21,
   "metadata": {
    "collapsed": true
   },
   "outputs": [],
   "source": [
    "# for loop\n",
    "data = []  \n",
    "for pg in URL:  \n",
    "    page = requests.get(pg)\n",
    "\n",
    "    soup = BeautifulSoup(page.text, 'html.parser')\n",
    "\n",
    "    name_box = soup.find('h1', attrs={'class': 'name'})\n",
    "    name = name_box.text.strip()\n",
    "\n",
    "    price_box = soup.find('div', attrs={'class':'price'})\n",
    "    price = price_box.text\n",
    "\n",
    "    data.append([name, price])"
   ]
  },
  {
   "cell_type": "markdown",
   "metadata": {},
   "source": [
    "Zusätzlich nur noch die Ausgabe verändern..."
   ]
  },
  {
   "cell_type": "code",
   "execution_count": 22,
   "metadata": {
    "collapsed": true
   },
   "outputs": [],
   "source": [
    "with open('index.csv', 'a') as csv_file:  \n",
    "    writer = csv.writer(csv_file)\n",
    "    for name, price in data:\n",
    "        writer.writerow([name, price, datetime.now()])"
   ]
  },
  {
   "cell_type": "markdown",
   "metadata": {},
   "source": [
    "### Anleitung für automatisches Web-Scraping unter Windows10\n",
    "\n",
    "#### Anwendung: multiple Werte\n",
    "\n",
    "`1.` Folgender Code wurde in einer *.py Datei gespeichert: (`script.py`)\n",
    "```python\n",
    "# Code aus multiple Werte (s.o.)\n",
    "import requests\n",
    "from bs4 import BeautifulSoup\n",
    "import csv\n",
    "from datetime import datetime\n",
    "\n",
    "URL = ['https://www.bloomberg.com/quote/EURUSD:CUR', \n",
    "       'https://www.bloomberg.com/quote/EURGBP:CUR', \n",
    "       'https://www.bloomberg.com/quote/EURCHF:CUR']\n",
    "\n",
    "data = []\n",
    "for pg in URL:  \n",
    "    page = requests.get(pg)\n",
    "    soup = BeautifulSoup(page.text, 'html.parser')\n",
    "    name_box = soup.find('h1', attrs={'class': 'name'})\n",
    "    name = name_box.text.strip()\n",
    "    price_box = soup.find('div', attrs={'class':'price'})\n",
    "    price = price_box.text\n",
    "    data.append([name, price])\n",
    "    \n",
    "with open('autoindex.csv', 'a') as csv_file:  \n",
    "    writer = csv.writer(csv_file)\n",
    "    for name, price in data:\n",
    "        writer.writerow([name, price, datetime.now()])\n",
    "```\n",
    "`2.` eine einfach BATCH-Datei wurde erstellt: (`startpy.bat`)\n",
    "```batch\n",
    "python script.py\n",
    "exit\n",
    "```\n",
    "\n",
    "`3.` Programm \"Aufgabenplanung\" starten\n",
    "\n",
    "`4.` Unter Aktionen \"Einfache Aufgabe erstellen...\" und im Assistent folgende Angaben machen:\n",
    "\n",
    "> - Name eingeben, ggf. zusätzliche Beschreibung\n",
    "\n",
    "> - Trigger, wann die Aufgabe gestartet werden soll\n",
    "\n",
    "> - Aktion: Programm starten\n",
    "\n",
    "> - folgendes Bild könnte jetzt hilfreich sein:\n",
    "\n",
    "> ![title](img/autoscraping.png)\n",
    "\n",
    "\n",
    "> **Eingabe bei A:** (Dateipfad / Start der Eingabeaufforderung)\n",
    "\n",
    "> `C:\\Windows\\System32\\cmd.exe` \n",
    "\n",
    "> **Eingabe bei B:** (Syntax für Ausführung der BATCH-Datei)\n",
    "\n",
    "> `/c start \"\" \"startpy.bat`\n",
    "\n",
    "> **Eingabe bei C:** (Dateipfad aus dem gestartet wird - sinnvoller Tipp: Nehmen Sie den Pfad in dem ihre Batch-Datei liegt und auch die spätere CSV-Datei gespeichert wird.)\n",
    "\n",
    "> `C:\\Ihr Verzeichnis\\...\\Web-Scraping...` \"\n",
    " \n",
    "\n",
    "`5.` Fertigstellen\n",
    "\n",
    "Nun sollte das Programm in der Aufgabenplanung korrekt starten und alsbald regelmäßig Daten liefern. Im folgendem Abschnitt eine mögliche Datenvisualisierung der bisher gesammelten Wechselkurse."
   ]
  },
  {
   "cell_type": "markdown",
   "metadata": {},
   "source": [
    "#### Zusatz: Visualisierung der Daten"
   ]
  },
  {
   "cell_type": "code",
   "execution_count": 25,
   "metadata": {
    "collapsed": true
   },
   "outputs": [],
   "source": [
    "from ggplot import *\n",
    "import numpy as np\n",
    "import pandas as pd"
   ]
  },
  {
   "cell_type": "code",
   "execution_count": 26,
   "metadata": {},
   "outputs": [
    {
     "data": {
      "text/html": [
       "<div>\n",
       "<style>\n",
       "    .dataframe thead tr:only-child th {\n",
       "        text-align: right;\n",
       "    }\n",
       "\n",
       "    .dataframe thead th {\n",
       "        text-align: left;\n",
       "    }\n",
       "\n",
       "    .dataframe tbody tr th {\n",
       "        vertical-align: top;\n",
       "    }\n",
       "</style>\n",
       "<table border=\"1\" class=\"dataframe\">\n",
       "  <thead>\n",
       "    <tr style=\"text-align: right;\">\n",
       "      <th></th>\n",
       "      <th>Wechselkurs</th>\n",
       "      <th>Wert</th>\n",
       "      <th>Zeit</th>\n",
       "    </tr>\n",
       "  </thead>\n",
       "  <tbody>\n",
       "    <tr>\n",
       "      <th>52</th>\n",
       "      <td>EURGBP Spot Exchange Rate</td>\n",
       "      <td>0.87538</td>\n",
       "      <td>2017-06-20 00:00:10.876780</td>\n",
       "    </tr>\n",
       "    <tr>\n",
       "      <th>53</th>\n",
       "      <td>EURCHF Spot Exchange Rate</td>\n",
       "      <td>1.08780</td>\n",
       "      <td>2017-06-20 00:00:10.876780</td>\n",
       "    </tr>\n",
       "    <tr>\n",
       "      <th>54</th>\n",
       "      <td>EURUSD Spot Exchange Rate</td>\n",
       "      <td>1.11590</td>\n",
       "      <td>2017-06-20 12:00:02.147935</td>\n",
       "    </tr>\n",
       "    <tr>\n",
       "      <th>55</th>\n",
       "      <td>EURGBP Spot Exchange Rate</td>\n",
       "      <td>0.87855</td>\n",
       "      <td>2017-06-20 12:00:02.147935</td>\n",
       "    </tr>\n",
       "    <tr>\n",
       "      <th>56</th>\n",
       "      <td>EURCHF Spot Exchange Rate</td>\n",
       "      <td>1.08602</td>\n",
       "      <td>2017-06-20 12:00:02.147935</td>\n",
       "    </tr>\n",
       "  </tbody>\n",
       "</table>\n",
       "</div>"
      ],
      "text/plain": [
       "                  Wechselkurs     Wert                       Zeit\n",
       "52  EURGBP Spot Exchange Rate  0.87538 2017-06-20 00:00:10.876780\n",
       "53  EURCHF Spot Exchange Rate  1.08780 2017-06-20 00:00:10.876780\n",
       "54  EURUSD Spot Exchange Rate  1.11590 2017-06-20 12:00:02.147935\n",
       "55  EURGBP Spot Exchange Rate  0.87855 2017-06-20 12:00:02.147935\n",
       "56  EURCHF Spot Exchange Rate  1.08602 2017-06-20 12:00:02.147935"
      ]
     },
     "execution_count": 26,
     "metadata": {},
     "output_type": "execute_result"
    }
   ],
   "source": [
    "cols = ['Wechselkurs', 'Wert', 'Zeit']\n",
    "index_csv = pd.read_csv('autoindex.csv', sep=',', header=None, names=cols)\n",
    "index_csv['Zeit'] = pd.to_datetime(index_csv['Zeit'])\n",
    "index_csv.tail()"
   ]
  },
  {
   "cell_type": "code",
   "execution_count": 28,
   "metadata": {},
   "outputs": [
    {
     "data": {
      "image/png": "[encoded data removed]",
      "text/plain": [
       "<matplotlib.figure.Figure at 0x1f50bc115c0>"
      ]
     },
     "metadata": {},
     "output_type": "display_data"
    }
   ],
   "source": [
    "import matplotlib.pyplot as plt\n",
    "import matplotlib.figure as fig \n",
    "fig, axarr = plt.subplots(3, sharex=True)\n",
    "\n",
    "axarr[0].set_title('EURCHF Spot Exchange Rate')\n",
    "axarr[0].plot(index_csv[index_csv.Wechselkurs == \"EURCHF Spot Exchange Rate\"]['Zeit'],index_csv[index_csv.Wechselkurs == \"EURCHF Spot Exchange Rate\"]['Wert'])\n",
    "axarr[1].set_title('EURGBP Spot Exchange Rate')\n",
    "axarr[1].plot(index_csv[index_csv.Wechselkurs == \"EURGBP Spot Exchange Rate\"]['Zeit'],index_csv[index_csv.Wechselkurs == \"EURGBP Spot Exchange Rate\"]['Wert'])\n",
    "axarr[2].set_title('EURUSD Spot Exchange Rate')\n",
    "axarr[2].plot(index_csv[index_csv.Wechselkurs == \"EURUSD Spot Exchange Rate\"]['Zeit'],index_csv[index_csv.Wechselkurs == \"EURUSD Spot Exchange Rate\"]['Wert'])\n",
    "\n",
    "plt.xlabel('Zeit MM-DD HH')\n",
    "\n",
    "fig.autofmt_xdate(bottom=0.2, rotation=30, ha='right')\n",
    "plt.tight_layout(pad=0.4, w_pad=0.5, h_pad=2)\n",
    "plt.rcParams[\"figure.figsize\"] = 20,10\n",
    "plt.show()"
   ]
  },
  {
   "cell_type": "markdown",
   "metadata": {},
   "source": [
    "> **Hinweis**:\n",
    "> Überlegen Sie sich den Einsatz eines Servers."
   ]
  },
  {
   "cell_type": "markdown",
   "metadata": {},
   "source": [
    "# Anwendungbeispiel: \n",
    "# Sammeln aller Artikel einer \"Main-Page\"\n",
    "## am Beispiel dieser [Webseite](http://www.blog.pythonlibrary.org)"
   ]
  },
  {
   "cell_type": "code",
   "execution_count": 29,
   "metadata": {},
   "outputs": [
    {
     "name": "stdout",
     "output_type": "stream",
     "text": [
      "PyDev of the Week: Aileen Nielsen: http://www.blog.pythonlibrary.org/2017/06/19/pydev-of-the-week-aileen-nielsen/\n",
      "Python 101: Working with Dates and Time: http://www.blog.pythonlibrary.org/2017/06/15/python-101-working-with-dates-and-time/\n",
      "ANN: Boomslang XML: http://www.blog.pythonlibrary.org/2017/06/12/ann-boomslang-xml/\n",
      "PyDev of the Week: Amir Rachum: http://www.blog.pythonlibrary.org/2017/06/12/pydev-of-the-week-amir-rachum/\n",
      "wxPython: Working with Status Bars: http://www.blog.pythonlibrary.org/2017/06/06/wxpython-working-with-status-bars/\n",
      "PyDev of the Week: Andrew Godwin: http://www.blog.pythonlibrary.org/2017/06/05/pydev-of-the-week-andrew-godwin/\n",
      "PyDev of the Week: Terry Peppers: http://www.blog.pythonlibrary.org/2017/05/29/pydev-of-the-week-terry-peppers/\n",
      "PyDev of the Week: Harrison Kinsley: http://www.blog.pythonlibrary.org/2017/05/22/pydev-of-the-week-harrison-kinsley/\n",
      "PyCon 2017 Videos are Up: http://www.blog.pythonlibrary.org/2017/05/21/pycon-2017-videos-are-up/\n",
      "Python 2017 – Second Day: http://www.blog.pythonlibrary.org/2017/05/21/python-2017-second-day/\n"
     ]
    }
   ],
   "source": [
    "URL = 'http://www.blog.pythonlibrary.org/'\n",
    "\n",
    "page = requests.get(URL)\n",
    "\n",
    "soup = BeautifulSoup(page.text, 'html.parser')\n",
    "\n",
    "pages = soup.findAll('h1')\n",
    "\n",
    "articles = {i.a['href']: i.text.strip()\n",
    "                for i in pages if i.a}\n",
    "\n",
    "for article in articles:\n",
    "    s = '{title}: {url}'.format(\n",
    "    title=articles[article],\n",
    "    url=article)\n",
    "    print(s)"
   ]
  },
  {
   "cell_type": "markdown",
   "metadata": {},
   "source": [
    "# Anwendungsbeispiel: Extraktion einer Tabelle\n",
    "\n",
    "Als finales Beispiel widmen wir uns etwas größeren Daten und extrahieren eine Tabelle bei [Wikipedia](http://de.wikipedia.org/wiki/Liste_der_Gro%C3%9F-_und_Mittelst%C3%A4dte_in_Deutschland). Hier nehmen wir uns die zweite und größere Tabelle vor, sie beinhaltet Daten wie Rang, Name, Einwohnerzahlen, usw. der Groß- und Mittelstädte Deutschlands mit mehr als 20.000 Einwohnern."
   ]
  },
  {
   "cell_type": "code",
   "execution_count": 31,
   "metadata": {
    "collapsed": true
   },
   "outputs": [],
   "source": [
    "url = \"http://de.wikipedia.org/wiki/Liste_der_Gro%C3%9F-_und_Mittelst%C3%A4dte_in_Deutschland\"\n",
    "header = {'User-Agent': 'Mozilla/5.0'} # needed to prevent 403 error on Wikipedia\n",
    "\n",
    "page = requests.get(url, headers=header)\n",
    "\n",
    "soup = BeautifulSoup(page.text, 'xml')\n",
    "\n",
    "tables = soup.find_all('table')\n",
    "#print(tables)"
   ]
  },
  {
   "cell_type": "markdown",
   "metadata": {},
   "source": [
    "#### Folgende Codeblöcke (1. bis 3.) dienen nur der Indentifizierung unserer gesuchten Tabelle:"
   ]
  },
  {
   "cell_type": "code",
   "execution_count": 32,
   "metadata": {
    "collapsed": true
   },
   "outputs": [],
   "source": [
    "# 1. Codeblock\n",
    "tables = soup.find_all(\"table\", {\"class\": \"wikitable sortable zebra\"})\n",
    "# print(tables)"
   ]
  },
  {
   "cell_type": "code",
   "execution_count": 33,
   "metadata": {},
   "outputs": [
    {
     "name": "stdout",
     "output_type": "stream",
     "text": [
      "['\\n', <caption>Groß- und Mittelstädte nach Bundesland</caption>, '\\n', <tr class=\"hintergrundfarbe6\">\n",
      "<th>Land</th>\n",
      "<th>Groß-<br/>\n",
      "städte</th>\n",
      "<th>Mittel-<br/>\n",
      "städte</th>\n",
      "<th>gesamt</th>\n",
      "</tr>, '\\n', <tr>\n",
      "<td style=\"text-align:left\"><a href=\"/wiki/Nordrhein-Westfalen\" title=\"Nordrhein-Westfalen\">Nordrhein-Westfalen</a></td>\n",
      "<td>29</td>\n",
      "<td>180</td>\n",
      "<td>209</td>\n",
      "</tr>, '\\n']\n",
      "['\\n', <caption>Groß- und Mittelstädte nach Einwohnerzahl</caption>, '\\n', <tr class=\"hintergrundfarbe6\">\n",
      "<th>Rang</th>\n",
      "<th>Name</th>\n",
      "<th>1970</th>\n",
      "<th>1980</th>\n",
      "<th>1990</th>\n",
      "<th>2000</th>\n",
      "<th>2010</th>\n",
      "<th data-sort-type=\"number\">2015</th>\n",
      "<th>Bundesland</th>\n",
      "</tr>, '\\n', <tr>\n",
      "<td>1.</td>\n",
      "<td align=\"left\"><a href=\"/wiki/Berlin\" title=\"Berlin\">Berlin</a></td>\n",
      "<td>3.208.719</td>\n",
      "<td>3.048.759</td>\n",
      "<td>3.433.695</td>\n",
      "<td>3.382.169</td>\n",
      "<td>3.460.725</td>\n",
      "<td>3.520.031</td>\n",
      "<td align=\"left\">Berlin</td>\n",
      "</tr>, '\\n']\n"
     ]
    }
   ],
   "source": [
    "# 2. Codeblock (Inhalt der gefundenen Tabellen - hier jeweils die ersten 2 Zeilen)\n",
    "for table in tables:\n",
    "    print(table.contents[:7])"
   ]
  },
  {
   "cell_type": "code",
   "execution_count": 34,
   "metadata": {},
   "outputs": [
    {
     "data": {
      "text/plain": [
       "[0,\n",
       " 4,\n",
       " 4,\n",
       " 4,\n",
       " 4,\n",
       " 4,\n",
       " 4,\n",
       " 4,\n",
       " 4,\n",
       " 4,\n",
       " 4,\n",
       " 4,\n",
       " 4,\n",
       " 4,\n",
       " 4,\n",
       " 4,\n",
       " 4,\n",
       " 4,\n",
       " 0,\n",
       " 9,\n",
       " 9,\n",
       " 9,\n",
       " 9,\n",
       " 9,\n",
       " 9,\n",
       " 9,\n",
       " 9,\n",
       " 9,\n",
       " 9,\n",
       " 9]"
      ]
     },
     "execution_count": 34,
     "metadata": {},
     "output_type": "execute_result"
    }
   ],
   "source": [
    "# 3. Codeblock (für faule Spaltenzähler)\n",
    "count = []\n",
    "for i, row in enumerate(soup.findAll(\"tr\")):\n",
    "    cells = row.findAll(\"td\")\n",
    "    count.append(len(cells))\n",
    "\n",
    "count[:30]"
   ]
  },
  {
   "cell_type": "markdown",
   "metadata": {},
   "source": [
    "Da die gewünschte Tabelle 9 Spalten hat, erzeugen wir zunächst 9 leere Listen:"
   ]
  },
  {
   "cell_type": "code",
   "execution_count": 35,
   "metadata": {
    "collapsed": true
   },
   "outputs": [],
   "source": [
    "rang = []\n",
    "name = []\n",
    "jahr1970 = []\n",
    "jahr1980 = []\n",
    "jahr1990 = []\n",
    "jahr2000 = []\n",
    "jahr2010 = []\n",
    "jahr2015 = []\n",
    "bundesland = []"
   ]
  },
  {
   "cell_type": "markdown",
   "metadata": {},
   "source": [
    "Und iterieren über jede Zeile und hängen die einzelnen Zellen in ihrer Reihenfolge an die jeweilige Liste an:"
   ]
  },
  {
   "cell_type": "code",
   "execution_count": 36,
   "metadata": {
    "collapsed": true
   },
   "outputs": [],
   "source": [
    "for row in soup.find_all(\"tr\"):\n",
    "    cells = row.find_all(\"td\")\n",
    "    if len(cells) == 9:\n",
    "        rang.append(cells[0].find(text=True))\n",
    "        name.append(cells[1].find(text=True))\n",
    "        jahr1970.append(cells[2].find(text=True))\n",
    "        jahr1980.append(cells[3].find(text=True))\n",
    "        jahr1990.append(cells[4].find(text=True))\n",
    "        jahr2000.append(cells[5].find(text=True))\n",
    "        jahr2010.append(cells[6].find(text=True))\n",
    "        jahr2015.append(cells[7].find(text=True))\n",
    "        bundesland.append(cells[8].find(text=True))"
   ]
  },
  {
   "cell_type": "markdown",
   "metadata": {},
   "source": [
    "Und führen anschliessend alle Listen in einen `panda DataFrame` zusammen und vergeben noch Spaltenüberschriften:"
   ]
  },
  {
   "cell_type": "code",
   "execution_count": 37,
   "metadata": {},
   "outputs": [
    {
     "data": {
      "text/html": [
       "<div>\n",
       "<style>\n",
       "    .dataframe thead tr:only-child th {\n",
       "        text-align: right;\n",
       "    }\n",
       "\n",
       "    .dataframe thead th {\n",
       "        text-align: left;\n",
       "    }\n",
       "\n",
       "    .dataframe tbody tr th {\n",
       "        vertical-align: top;\n",
       "    }\n",
       "</style>\n",
       "<table border=\"1\" class=\"dataframe\">\n",
       "  <thead>\n",
       "    <tr style=\"text-align: right;\">\n",
       "      <th></th>\n",
       "      <th>Rang</th>\n",
       "      <th>Name</th>\n",
       "      <th>1970</th>\n",
       "      <th>1980</th>\n",
       "      <th>1990</th>\n",
       "      <th>2000</th>\n",
       "      <th>2010</th>\n",
       "      <th>2015</th>\n",
       "      <th>Bundesland</th>\n",
       "    </tr>\n",
       "  </thead>\n",
       "  <tbody>\n",
       "    <tr>\n",
       "      <th>0</th>\n",
       "      <td>1.</td>\n",
       "      <td>Berlin</td>\n",
       "      <td>3.208.719</td>\n",
       "      <td>3.048.759</td>\n",
       "      <td>3.433.695</td>\n",
       "      <td>3.382.169</td>\n",
       "      <td>3.460.725</td>\n",
       "      <td>3.520.031</td>\n",
       "      <td>Berlin</td>\n",
       "    </tr>\n",
       "    <tr>\n",
       "      <th>1</th>\n",
       "      <td>2.</td>\n",
       "      <td>Hamburg</td>\n",
       "      <td>1.793.640</td>\n",
       "      <td>1.645.095</td>\n",
       "      <td>1.652.363</td>\n",
       "      <td>1.715.392</td>\n",
       "      <td>1.786.448</td>\n",
       "      <td>1.787.408</td>\n",
       "      <td>Hamburg</td>\n",
       "    </tr>\n",
       "    <tr>\n",
       "      <th>2</th>\n",
       "      <td>3.</td>\n",
       "      <td>München</td>\n",
       "      <td>1.311.978</td>\n",
       "      <td>1.298.941</td>\n",
       "      <td>1.229.026</td>\n",
       "      <td>1.210.223</td>\n",
       "      <td>1.353.186</td>\n",
       "      <td>1.450.381</td>\n",
       "      <td>Bayern</td>\n",
       "    </tr>\n",
       "    <tr>\n",
       "      <th>3</th>\n",
       "      <td>4.</td>\n",
       "      <td>Köln</td>\n",
       "      <td>849.451</td>\n",
       "      <td>976.694</td>\n",
       "      <td>953.551</td>\n",
       "      <td>962.884</td>\n",
       "      <td>1.007.119</td>\n",
       "      <td>1.060.582</td>\n",
       "      <td>Nordrhein-Westfalen</td>\n",
       "    </tr>\n",
       "    <tr>\n",
       "      <th>4</th>\n",
       "      <td>5.</td>\n",
       "      <td>Frankfurt am Main</td>\n",
       "      <td>666.179</td>\n",
       "      <td>629.375</td>\n",
       "      <td>644.865</td>\n",
       "      <td>646.550</td>\n",
       "      <td>679.664</td>\n",
       "      <td>732.688</td>\n",
       "      <td>Hessen</td>\n",
       "    </tr>\n",
       "  </tbody>\n",
       "</table>\n",
       "</div>"
      ],
      "text/plain": [
       "  Rang               Name       1970       1980       1990       2000  \\\n",
       "0   1.             Berlin  3.208.719  3.048.759  3.433.695  3.382.169   \n",
       "1   2.            Hamburg  1.793.640  1.645.095  1.652.363  1.715.392   \n",
       "2   3.            München  1.311.978  1.298.941  1.229.026  1.210.223   \n",
       "3   4.               Köln    849.451    976.694    953.551    962.884   \n",
       "4   5.  Frankfurt am Main    666.179    629.375    644.865    646.550   \n",
       "\n",
       "        2010       2015           Bundesland  \n",
       "0  3.460.725  3.520.031               Berlin  \n",
       "1  1.786.448  1.787.408              Hamburg  \n",
       "2  1.353.186  1.450.381               Bayern  \n",
       "3  1.007.119  1.060.582  Nordrhein-Westfalen  \n",
       "4    679.664    732.688               Hessen  "
      ]
     },
     "execution_count": 37,
     "metadata": {},
     "output_type": "execute_result"
    }
   ],
   "source": [
    "tabelle = pd.DataFrame(data=[rang, name, jahr1970, jahr1980, jahr1990, jahr2000, jahr2010, jahr2015, bundesland]).transpose()\n",
    "tabelle.columns  = ['Rang', 'Name', '1970', '1980', '1990', '2000', '2010', '2015', 'Bundesland']\n",
    "tabelle.head()"
   ]
  },
  {
   "cell_type": "markdown",
   "metadata": {},
   "source": [
    "# Tipps: Fortgeschrittene Scraping Techniken\n",
    "\n",
    "`BeautifulSoup` ist einfach und großartig für kleinere Web-Scraping-Aktionen. Falls Sie an größeren Datenmengen interessiert sind, können Sie sich auch andere Alternativen zu Nutze machen:\n",
    "\n",
    "1\\. [`Scrapy`](https://scrapy.org/) oder [Selenium](http://www.seleniumhq.org/) - sind weitere nützliche Python Bibliotheken und **sehr** mächtig.\n",
    "\n",
    "2\\. Nutzen Sie in Ihrem Code öffentliche Programmierschnittstellen (APIs). Die Effizienz ist um einiges höher als beim \"scrapen\" von Webseiten.\n",
    "\n",
    "> Beispiele:\n",
    "\n",
    "> [`Facebook Graph API`](https://developers.facebook.com/docs/graph-api?locale=de_DE) (hilfreich bei versteckten Daten, die nicht auf der Facebook-Webseite dargestellt werden)\n",
    "\n",
    "> Wikipedia API-tools sind [hier zu finden](https://www.mediawiki.org/wiki/API:Client_code#Python)\n",
    "\n",
    "3\\. Hier nochmal erwähnt, `SelectorGadget` ist sehr nützlich, gerade was das suchen und finden der gewünschten `<tag>` Informationen angeht. (Nähere Beschreibung siehe Website [SelectorGadget](http://selectorgadget.com/).)\n",
    "\n",
    "4\\. Überlegen Sie sich den Einsatz einer Datenbank (wie mySQL, SQLite), um Ihre Daten zu speichern, empfehlenswert bei größeren Datenmengen.\n",
    "\n",
    "5\\. Gerade in Bezug auf automatisches Web-Scraping mit sehr vielen Daten und periodischer Laufzeit (*Beispiel: Anwendung läuft rund um die Uhr und prüft die Ziel`URL` regelmäßig alle paar Sekunden nach neuen Updates / Uploads*) lohnt sich der Einsatz des Web-Scraping Programmes in einer Serverarchitektur.\n",
    "\n",
    "6\\. HTML-Parsing: der genutzte `html.parser` ist in Python vorhanden, benötigt man schnelleres, so kann man auch [lxml](http://lxml.de/) installieren und nutzen."
   ]
  },
  {
   "cell_type": "markdown",
   "metadata": {},
   "source": [
    "### API: Kleiner Zusatz für eine Wikipedia Einbindung in Python:"
   ]
  },
  {
   "cell_type": "code",
   "execution_count": 38,
   "metadata": {
    "collapsed": true
   },
   "outputs": [],
   "source": [
    "import wikipedia  # Hinweis: $ pip install wikipedia"
   ]
  },
  {
   "cell_type": "code",
   "execution_count": 39,
   "metadata": {},
   "outputs": [
    {
     "data": {
      "text/plain": [
       "['Python',\n",
       " 'PYTHON',\n",
       " 'Monty Python',\n",
       " 'Python (programming language)',\n",
       " 'Python molurus',\n",
       " 'Burmese python',\n",
       " 'Python (missile)',\n",
       " 'Python curtus',\n",
       " 'African rock python',\n",
       " 'Ball python']"
      ]
     },
     "execution_count": 39,
     "metadata": {},
     "output_type": "execute_result"
    }
   ],
   "source": [
    "wikipedia.search(\"Python\")"
   ]
  },
  {
   "cell_type": "code",
   "execution_count": 40,
   "metadata": {},
   "outputs": [
    {
     "data": {
      "text/plain": [
       "'Monty Python'"
      ]
     },
     "execution_count": 40,
     "metadata": {},
     "output_type": "execute_result"
    }
   ],
   "source": [
    "py = wikipedia.page(\"Monty Python\")\n",
    "py.title"
   ]
  },
  {
   "cell_type": "code",
   "execution_count": 41,
   "metadata": {},
   "outputs": [
    {
     "data": {
      "text/plain": [
       "'https://en.wikipedia.org/wiki/Monty_Python'"
      ]
     },
     "execution_count": 41,
     "metadata": {},
     "output_type": "execute_result"
    }
   ],
   "source": [
    "py.url"
   ]
  },
  {
   "cell_type": "code",
   "execution_count": 42,
   "metadata": {},
   "outputs": [
    {
     "data": {
      "text/plain": [
       "\"Monty Python (also known as The Pythons) were a British surreal comedy group who created their sketch comedy show Monty Python's Flying Circus, which first aired on the BBC in 1969. Forty-five episodes were made over four series. The Python phenomenon developed from the television series into something larger in scope and impact, including touring stage shows, films, numerous albums, several books, and musicals. The Pythons' influence on comedy has been compared to the Beatles' influence on musi\""
      ]
     },
     "execution_count": 42,
     "metadata": {},
     "output_type": "execute_result"
    }
   ],
   "source": [
    "py.content[:500]"
   ]
  },
  {
   "cell_type": "code",
   "execution_count": 43,
   "metadata": {},
   "outputs": [
    {
     "data": {
      "text/plain": [
       "'Monty Python (also known as The Pythons) were a British surreal comedy group who created their sketc'"
      ]
     },
     "execution_count": 43,
     "metadata": {},
     "output_type": "execute_result"
    }
   ],
   "source": [
    "py.summary[:100]"
   ]
  },
  {
   "cell_type": "code",
   "execution_count": 44,
   "metadata": {},
   "outputs": [
    {
     "data": {
      "text/plain": [
       "['13681 Monty Python',\n",
       " '3rd Rock from the Sun',\n",
       " '9617 Grahamchapman',\n",
       " '9618 Johncleese',\n",
       " '9619 Terrygilliam',\n",
       " '9620 Ericidle',\n",
       " '9621 Michaelpalin',\n",
       " '9622 Terryjones',\n",
       " 'A Fish Called Wanda',\n",
       " \"A Liar's Autobiography\",\n",
       " \"A Liar's Autobiography: The Untrue Story of Monty Python's Graham Chapman\",\n",
       " 'A Poke in the Eye (With A Sharp Stick)',\n",
       " 'Absolutely Anything',\n",
       " 'Agnès Varda',\n",
       " 'Air Canada']"
      ]
     },
     "execution_count": 44,
     "metadata": {},
     "output_type": "execute_result"
    }
   ],
   "source": [
    "py.links[:15]"
   ]
  },
  {
   "cell_type": "markdown",
   "metadata": {},
   "source": [
    "# Bemerkung\n",
    "\n",
    "Der Name `BeautifulSoup` kommt von *\"Alice im Wunderland\"*. Es ist ein Lied, das von \"Mock Turtle\" an Alice gesungen wird: \n",
    "\n",
    "> \"Soo--oop of the e--e--evening. Beautiful, beautiful Soup!\"\n",
    "\n",
    "Es ist eine Anspielung auf \"tag soup\" - der Begriff bezieht sich auf fehlerhaften HTML-Code. \n",
    "\n",
    "→ `<tag soup>`  ist der natürliche Feind des Web-Scrapings."
   ]
  },
  {
   "cell_type": "markdown",
   "metadata": {},
   "source": [
    "# Quellen & weitere Literatur\n",
    "http://investigativ.org/kapitel-4/daten-sammeln-zusammenschaufeln-und-sie-nutzbar-machen-scraping-und-data-mining-hinweise-und-tipps-von-patrick-roesing/\n",
    "\n",
    "http://altitudelabs.com/blog/web-scraping-with-python-and-beautiful-soup/\n",
    "\n",
    "https://de.wikipedia.org/wiki/Screen_Scraping\n",
    "\n",
    "https://www.crummy.com/software/BeautifulSoup/bs4/doc/\n",
    "\n",
    "https://www.blog.pythonlibrary.org/2016/08/04/a-simple-intro-to-web-scraping-with-python/"
   ]
  }
 ],
 "metadata": {
  "kernelspec": {
   "display_name": "Python 3",
   "language": "python",
   "name": "python3"
  },
  "language_info": {
   "codemirror_mode": {
    "name": "ipython",
    "version": 3
   },
   "file_extension": ".py",
   "mimetype": "text/x-python",
   "name": "python",
   "nbconvert_exporter": "python",
   "pygments_lexer": "ipython3",
   "version": "3.6.0"
  }
 },
 "nbformat": 4,
 "nbformat_minor": 2
}
