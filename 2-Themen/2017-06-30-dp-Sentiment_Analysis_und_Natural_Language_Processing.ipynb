{
 "cells": [
  {
   "cell_type": "markdown",
   "metadata": {},
   "source": [
    "# Theoretischer Hintergrund\n",
    "Mithilfe von Natural Language Processing und Sentiment Analysis wird es Maschinen ermöglicht, menschliche Emotionen zu verstehen. Gerade für Unternehmen ist es wichtig, die allgemeine Wahrnehmung von Events (zum Beispiel der Launch eines neuen Produktes) zu verfolgen. Durch Echtzeit-Zugriff und die hohe Verfügbarkeit der Inhalte auf Twitter, Facebook oder anderen sozialen Netzwerken, können verschiedene Analysen der Posts durchgeführt werden."
   ]
  },
  {
   "cell_type": "markdown",
   "metadata": {},
   "source": [
    "## Natural Language Processing\n",
    "Natural Language Processing (NLP) befasst sich mit der Verarbeitung großer Mengen natürlicher Sprache. Die Herausforderung besteht darin, dass Menschen unterschiedlich miteinander kommunizieren. Manchmal verwenden wir lange Sätze, manchmal kurze Sätze, manchmal wiederholen wir uns, manchmal verwenden wir Sarkasmus, manchmal gibt es mehrere Wege, den gleichen Inhalt zu vermitteln.\n",
    "\n",
    "//Literatur zu NLP ist leider sehr mager. Ich hoffe dass ich durch das NLTK hier mehr Inhalte einbringen kann"
   ]
  },
  {
   "cell_type": "markdown",
   "metadata": {},
   "source": []
  },
  {
   "cell_type": "markdown",
   "metadata": {},
   "source": [
    "[NLTK](http://www.nltk.org/) verwenden um Beispiele durchzuführen"
   ]
  },
  {
   "cell_type": "markdown",
   "metadata": {},
   "source": []
  },
  {
   "cell_type": "markdown",
   "metadata": {},
   "source": [
    "## Sentiment Analysis\n",
    "Sentiment (deutsch: Stimmung/Empfindung) Analysis, oder auch Opinion Mining genannt, ist eine Methode, mit welcher man versucht, die Stimmung einer Aussage oder die Emotionen dahinter zu bewerten. Die Aussage ist dabei weder an eine bestimmte Sprache gebunden, noch muss sie von einer bestimmten Quelle stammen. Man kann beispielsweise Tweets, Facebook Posts, Chatverläufe oder SMS verwenden. Im Gegensatz zum NLP werden nicht nur die Wörter bewertet, sondern die allgemeine Stimmung dahinter analysiert. Anhand der Wortwahl oder Zeichensetzung kann man erkennen, ob jemand genervt ist. "
   ]
  },
  {
   "cell_type": "markdown",
   "metadata": {},
   "source": [
    "Beispiele:\n",
    "<table align=left><tr><td>Visiting to the wonderful places in Europe. Feeling real happy</td><td>Positiv</td></tr>\n",
    "<tr><td>I love little sunshine in winters, make me feel live</td><td>Positiv</td></tr>\n",
    "<tr><td>I am stuck in a same place, feeling sad</td><td>Negativ</td></tr>\n",
    "<tr><td>The cab driver was a nice person. Think many of them are actualy good people</td><td>Positiv</td></tr></table>"
   ]
  },
  {
   "cell_type": "markdown",
   "metadata": {},
   "source": [
    "Sentiment Analysis spielt eine wichtige Rolle, um die Kundenresonanz zu verstehen und kann den Wachstum eines Unternehmens stark beeinflussen. Mit Social Media Plattformen wie Facebook oder Twitter ist das Sprichwort *die Feder ist mächtiger als das Schwert* gegenwärtiger denn je. Mundpropaganda gilt als eines der stärksten Marketingmethoden, wodurch das Bedürfnis entstanden ist, Sentiment Analysen durchzuführen.\n",
    "Das Feld ist inzwischen so fortgeschritten, dass man Ergebnisse größerer Wahlen durch Sentiment Analysen der Wähler ziemlich genau vorhersagen kann. Auf die gleiche Weise werden Entwicklungen des Aktienmarktes durchgeführt. "
   ]
  },
  {
   "cell_type": "markdown",
   "metadata": {},
   "source": [
    "### Schritte der Sentiment Analyse\n",
    "Eine Meinung oder eine Stimmung kann einem Computer als Quintupel beschrieben werden.\n",
    "\n",
    "**Quintupel**: ein 5-dimensionales Objekt mit den folgenden Achsen:\n",
    "* $O$ beschreibt das *zu überprüfende Objekt*. Es wird durch named-entity recognition (Methode zur automatischen Identifizierung von Eigennamen) identifiziert (Beispiel: Barrack Obama; Volkswagen Golf)\n",
    "* $f$ ist ein *Feature* von $O$. Es wird durch Datenverarbeitungsverfahren evaluiert\n",
    "* $h$ ist der *information miner*\n",
    "* $t$ ist der Zeitpunkt der Datenextraktion\n",
    "* $SO$ ist die *Sentiment Orientation* des Information Miners $h$ mit dem Feature $f$ im Bezug auf das Objekt $O$  zum Zeitpunkt $t$. Der Wert der Sentiment Orientation ist entscheidend dafür, ob ein Objekt als positiv oder negativ eingestuft wird."
   ]
  },
  {
   "cell_type": "markdown",
   "metadata": {},
   "source": [
    "Um den Sentiment Value $SO$ zu berechnen, werden die folgenden Schritte durchgeführt:\n",
    "1. Part-of-speech tagging (pos) bedeutet die Zuordnung von Wörtern oder Satzzeichen eines Objektes zu Wortarten. Hierbei werden sowohl  Definitionen des Wortes, als auch der Kontext berücksichtigt. Zur Durchführung werden Machine Learning Algorithmen verwendet. Eine Liste der verfügbaren Tags kann [hier](https://www.ling.upenn.edu/courses/Fall_2003/ling001/penn_treebank_pos.html) gefunden werden.\n",
    "2. Wir betrachten die (SO) der gesammelten Objekte. Beispielsweise wurde *hervorragend* und *Handy* gesammelt, also eine positive Reaktion. Das Gegenteil könnte *schlechtes* + *Handy* sein. In dieser Phase versucht das System, die Begriffe eInzuordnen.\n",
    "3. Die durchschnittliche Sentiment Orientation aller Begriffe wird zusammengerechnet, um beispielsweise folgende Aussagen zu treffen:\n",
    "    1. \"Normalerweise mögen Leute ihr neues Handy.\" → **positiv**\n",
    "    2. \"Normalerweise hassen Leute ihr neues Handy.\" → **nicht positiv**"
   ]
  },
  {
   "cell_type": "markdown",
   "metadata": {},
   "source": [
    "**Zusatz:**\n",
    "[SentiWordNet](http://sentiwordnet.isti.cnr.it/) ist eine Ressource des Opinion Minings, die die Sentiment Values eines englischen Datensatzes nach Positivität, Negativität und Objektivität, sowie die zugehörigen pos-Tags beinhaltet. Außerdem werden verschiedene Bedeutungen des gleichen Wortes unterschiedlich bewertet.\n",
    "\n",
    "Beispiel:\n",
    "* \"Your new phone has 8gb of RAM? That's *crazy*! → crazy ist **positiv**\n",
    "* \"You bought a phone for &#36;1,200? You're *crazy*! → crazy ist **negativ**"
   ]
  },
  {
   "cell_type": "markdown",
   "metadata": {},
   "source": []
  },
  {
   "cell_type": "markdown",
   "metadata": {},
   "source": [
    "Beispielsweise Naive Bayes als Klassifikator verwenden, um eine Sentiment Analysis durchzuführen"
   ]
  },
  {
   "cell_type": "markdown",
   "metadata": {},
   "source": []
  },
  {
   "cell_type": "markdown",
   "metadata": {},
   "source": [
    "# Quellen:\n",
    "* Ravindran & Garg (2015): *Mastering Social Media Mining with R*\n",
    "* Richert & Coelho (2013): *Building Machine Learning Systems with Python*\n",
    "* http://www.nltk.org/\n",
    "* https://de.wikipedia.org/wiki/Part-of-speech_Tagging\n",
    "* https://www.ling.upenn.edu/courses/Fall_2003/ling001/penn_treebank_pos.html\n",
    "* http://sentiwordnet.isti.cnr.it/\n",
    "* https://medium.com/udacity/natural-language-processing-and-sentiment-analysis-43111c33c27e"
   ]
  },
  {
   "cell_type": "code",
   "execution_count": null,
   "metadata": {
    "collapsed": true
   },
   "outputs": [],
   "source": []
  }
 ],
 "metadata": {
  "kernelspec": {
   "display_name": "Python 3",
   "language": "python",
   "name": "python3"
  },
  "language_info": {
   "codemirror_mode": {
    "name": "ipython",
    "version": 3
   },
   "file_extension": ".py",
   "mimetype": "text/x-python",
   "name": "python",
   "nbconvert_exporter": "python",
   "pygments_lexer": "ipython3",
   "version": "3.6.1"
  }
 },
 "nbformat": 4,
 "nbformat_minor": 2
}
