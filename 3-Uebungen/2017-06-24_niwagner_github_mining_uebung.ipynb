{
 "cells": [
  {
   "cell_type": "markdown",
   "metadata": {},
   "source": [
    "# GitHub Mining Übungen"
   ]
  },
  {
   "cell_type": "markdown",
   "metadata": {},
   "source": [
    "### Aufgabe 1.1 \n",
    "Erstelle dir für dein persönliches GitHub-Profil einen authorisierten API Access Token."
   ]
  },
  {
   "cell_type": "markdown",
   "metadata": {},
   "source": [
    "\n",
    "### Aufgabe 1.2\n",
    "Lasse dir die Anzahl user ausgeben, die bisher zum repository **lehrbuch** des users **dspyrhsu** beigetragen haben (Diese user sind im repository als contributors gekennzeichnet).\n",
    "\n",
    "**[Tipp](http://pygithub.github.io/PyGithub/v1/search.html?q=get_contributor)**"
   ]
  },
  {
   "cell_type": "markdown",
   "metadata": {},
   "source": [
    "### Aufgabe 2.1\n",
    "Erstelle einen simplen Graphen mit *nodes* und *edges* aller **contributors** zum repository **dspyrhsu**."
   ]
  },
  {
   "cell_type": "markdown",
   "metadata": {},
   "source": [
    "### Aufgabe 2.2\n",
    "Gib dann den Namen aller **contributors** aus."
   ]
  }
 ],
 "metadata": {
  "kernelspec": {
   "display_name": "Python 3",
   "language": "python",
   "name": "python3"
  },
  "language_info": {
   "codemirror_mode": {
    "name": "ipython",
    "version": 3
   },
   "file_extension": ".py",
   "mimetype": "text/x-python",
   "name": "python",
   "nbconvert_exporter": "python",
   "pygments_lexer": "ipython3",
   "version": "3.6.0"
  }
 },
 "nbformat": 4,
 "nbformat_minor": 2
}
