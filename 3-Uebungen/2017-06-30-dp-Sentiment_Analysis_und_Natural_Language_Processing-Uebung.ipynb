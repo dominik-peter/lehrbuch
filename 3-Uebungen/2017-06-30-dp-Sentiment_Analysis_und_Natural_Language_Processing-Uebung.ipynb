{
 "cells": [
  {
   "cell_type": "markdown",
   "metadata": {},
   "source": [
    "# Sentiment Analysis und Natural Language Processing Übung"
   ]
  },
  {
   "cell_type": "markdown",
   "metadata": {},
   "source": [
    "## Aufgabe 1:\n",
    "**Führen Sie eine Sentiment Analyse mit Hilfe des Natural Language Toolkits und des Naive Bayes Verfahrens durch. Verwenden Sie dafür den *twitter_samples* Datensatz des NLTK.**"
   ]
  },
  {
   "cell_type": "code",
   "execution_count": 1,
   "metadata": {
    "collapsed": true
   },
   "outputs": [],
   "source": [
    "from nltk.corpus import twitter_samples"
   ]
  },
  {
   "cell_type": "markdown",
   "metadata": {},
   "source": [
    "*Hinweis: Der Twitter Datensatz verwendet zwei JSON-Dateien, die jeweils die positiven oder negativen Tweets enthalten.*\n",
    "```Python\n",
    "twitter_samples.strings('negative_tweets.json')```\n",
    "*liefert einen Array aller negativen Tweets.*"
   ]
  },
  {
   "cell_type": "markdown",
   "metadata": {
    "collapsed": true
   },
   "source": [
    "## Aufgabe 2:\n",
    "**Validieren Sie Ihre Ergebnisse mit Hilfe von jeweils einem positiven und einem negativen Tweet**"
   ]
  },
  {
   "cell_type": "markdown",
   "metadata": {},
   "source": [
    "Positiver Tweet:\n",
    "> The screen is gorgeous on the #OnePlus5 , it doesn't seem like a 1080P panel, really amazed by the quality\n",
    "\n",
    "Negativer Tweet:\n",
    "> I don't like the phone at all"
   ]
  },
  {
   "cell_type": "code",
   "execution_count": null,
   "metadata": {
    "collapsed": true
   },
   "outputs": [],
   "source": []
  }
 ],
 "metadata": {
  "kernelspec": {
   "display_name": "Python 3",
   "language": "python",
   "name": "python3"
  },
  "language_info": {
   "codemirror_mode": {
    "name": "ipython",
    "version": 3
   },
   "file_extension": ".py",
   "mimetype": "text/x-python",
   "name": "python",
   "nbconvert_exporter": "python",
   "pygments_lexer": "ipython3",
   "version": "3.6.1"
  }
 },
 "nbformat": 4,
 "nbformat_minor": 2
}
